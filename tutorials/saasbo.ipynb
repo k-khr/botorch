{
 "cells": [
  {
   "cell_type": "markdown",
   "metadata": {
    "code_folding": [],
    "customInput": null,
    "hidden_ranges": [],
    "originalKey": "501041cc-0473-4971-bff9-fd6e92e1eae4",
    "showInput": false
   },
   "source": [
    "## High-Dimensional sample-efficient Bayesian Optimization with SAASBO\n",
    "\n",
    "This tutorial shows how to use the Sparse Axis-Aligned Subspace Bayesian Optimization (SAASBO) \n",
    "method for high-dimensional Bayesian optimization [1]. SAASBO places strong priors on the \n",
    "inverse lengthscales to avoid overfitting in high-dimensional spaces. Specifically, SAASBO \n",
    "uses a hierarchical sparsity prior consisting of a global shrinkage parameter \n",
    "$\\tau \\sim \\mathcal{HC}(\\beta)$ and inverse lengthscales $\\rho_d \\sim \\mathcal{HC}(\\tau)$ \n",
    "for $d=1, \\ldots, D$, where $\\mathcal{HC}$ is the half-Cauchy distribution. \n",
    "While half-Cauchy priors favor values near zero they also have heavy tails, which allows the \n",
    "inverse lengthscales of the most important parameters to escape zero. To perform inference in the \n",
    "SAAS model we use Hamiltonian Monte Carlo (HMC) as we found that to outperform MAP inference.\n",
    "\n",
    "We find that SAASBO performs well on problems with hundreds of dimensions. As we rely on HMC \n",
    "and in particular the No-U-Turn-Sampler (NUTS) for inference, the overhead of SAASBO scales \n",
    "cubically with the number of datapoints. Depending on the problem, using more than a few hundred\n",
    "evaluations may not be feasible as SAASBO is designed for problems with a limited evaluation budget.\n",
    "\n",
    "In general, we recommend using [Ax](https://ax.dev) for a simple BO setup like this one. See [here](https://ax.dev/tutorials/saasbo.html) for a SAASBO tutorial in Ax, which uses the Noisy Expected Improvement acquisition function. To customize the acquisition function used with SAASBO in Ax, see the [custom acquisition tutorial](./custom_acquisition), where adding `\\\"surrogate\\\": Surrogate(SaasFullyBayesianSingleTaskGP),` to the `model_kwargs` of `BOTORCH_MODULAR` step is sufficient to enable the SAAS model.\n",
    "\n",
    "[1]: [D. Eriksson, M. Jankowiak. High-Dimensional Bayesian Optimization with Sparse Axis-Aligned Subspaces. Proceedings of the Thirty-Seventh Conference on Uncertainty in Artificial Intelligence, 2021.](https://proceedings.mlr.press/v161/eriksson21a.html)"
   ]
  },
  {
   "cell_type": "code",
   "execution_count": 1,
   "metadata": {
    "code_folding": [],
    "executionStartTime": 1649803418447,
    "executionStopTime": 1649803418750,
    "hidden_ranges": [],
    "originalKey": "bc5ec977-a548-4bc6-8add-acfbf409bb9e",
    "requestMsgId": "cb1a8f6a-20ad-4353-bddb-30f97223215d"
   },
   "outputs": [],
   "source": [
    "import os\n",
    "\n",
    "import matplotlib.pyplot as plt\n",
    "import numpy as np\n",
    "import torch\n",
    "from botorch import fit_fully_bayesian_model_nuts\n",
    "from botorch.acquisition import qExpectedImprovement\n",
    "from botorch.models.fully_bayesian import SaasFullyBayesianSingleTaskGP\n",
    "from botorch.models.transforms import Standardize\n",
    "from botorch.optim import optimize_acqf\n",
    "from botorch.test_functions import Branin\n",
    "from torch.quasirandom import SobolEngine\n",
    "\n",
    "\n",
    "%matplotlib inline\n",
    "SMOKE_TEST = os.environ.get(\"SMOKE_TEST\")"
   ]
  },
  {
   "cell_type": "code",
   "execution_count": 2,
   "metadata": {
    "code_folding": [],
    "customInput": null,
    "executionStartTime": 1649803418845,
    "executionStopTime": 1649803418855,
    "hidden_ranges": [],
    "originalKey": "fa01b012-d147-4603-b1f5-ef6dc81a9be2",
    "requestMsgId": "4d9e56c9-6958-4bd5-99e8-44a1675aa039",
    "showInput": true
   },
   "outputs": [],
   "source": [
    "tkwargs = {\"device\": torch.device(\"cuda\" if torch.cuda.is_available() else \"cpu\"), \"dtype\": torch.double}"
   ]
  },
  {
   "cell_type": "markdown",
   "metadata": {
    "code_folding": [],
    "customInput": null,
    "hidden_ranges": [],
    "originalKey": "08a3d790-52a5-4821-af21-1040f1a037f0",
    "showInput": false
   },
   "source": [
    "The time to fit the SAAS model can be decreased by lowering\n",
    "`WARMUP_STEPS` and `NUM_SAMPLES`. We recommend using 512 warmup steps and 256 samples when\n",
    "possible and to not use fewer than 256 warmup steps and 128 samples. By default, we only\n",
    "keep each 16th sample which with 256 samples results in 32 hyperparameter samples."
   ]
  },
  {
   "cell_type": "code",
   "execution_count": 3,
   "metadata": {
    "customInput": null,
    "executionStartTime": 1649803418937,
    "executionStopTime": 1649803418953,
    "originalKey": "65fd73cf-cfeb-4acb-9edc-6a143b4a906b",
    "requestMsgId": "c1e22a5d-38d9-4584-a436-4f50697daa24",
    "showInput": true
   },
   "outputs": [],
   "source": [
    "WARMUP_STEPS = 512 if not SMOKE_TEST else 32\n",
    "NUM_SAMPLES = 256 if not SMOKE_TEST else 16\n",
    "THINNING = 16"
   ]
  },
  {
   "cell_type": "markdown",
   "metadata": {
    "code_folding": [],
    "customInput": null,
    "hidden_ranges": [],
    "originalKey": "af8beafd-352c-421d-8797-7660ddfa39f3",
    "showInput": false
   },
   "source": [
    "## Simple model fitting\n",
    "We generate a simple function that only depends on the first parameter and show that the SAAS\n",
    "model sets all other lengthscales to large values."
   ]
  },
  {
   "cell_type": "code",
   "execution_count": 4,
   "metadata": {
    "code_folding": [],
    "customInput": null,
    "executionStartTime": 1649803419031,
    "executionStopTime": 1649803419055,
    "hidden_ranges": [],
    "originalKey": "1fcb52c7-cb46-4030-bf21-a905e11eeaff",
    "requestMsgId": "ce411082-db6b-4508-8d06-6755af99a789",
    "showInput": true
   },
   "outputs": [],
   "source": [
    "train_X = torch.rand(10, 4, **tkwargs)\n",
    "test_X = torch.rand(5, 4, **tkwargs)\n",
    "train_Y = torch.sin(train_X[:, :1])\n",
    "test_Y = torch.sin(test_X[:, :1])"
   ]
  },
  {
   "cell_type": "markdown",
   "metadata": {
    "code_folding": [],
    "customInput": null,
    "hidden_ranges": [],
    "originalKey": "cc9314b1-f255-4f7d-9f6d-eb349b34805e",
    "showInput": false
   },
   "source": [
    "By default, we infer the unknown noise variance in the data. You can also pass in a known \n",
    "noise variance (`train_Yvar`) for each observation, which may be useful in cases where you for example\n",
    "know that the problem is noise-free and can then set the noise variance to a small value such as `1e-6`.\n",
    "\n",
    "In this case you can construct a model as follows:\n",
    "```\n",
    "gp = SaasFullyBayesianSingleTaskGP(train_X=train_X, train_Y=train_Y, train_Yvar=torch.full_like(train_Y, 1e-6))\n",
    "```"
   ]
  },
  {
   "cell_type": "code",
   "execution_count": 5,
   "metadata": {
    "code_folding": [],
    "customInput": null,
    "executionStartTime": 1649803419130,
    "executionStopTime": 1649803435241,
    "hidden_ranges": [],
    "originalKey": "a090b66e-ba8d-4a62-9464-ee49d74d30b3",
    "requestMsgId": "f8409158-4a25-454d-8ee5-314fdbfdc8ba",
    "showInput": true
   },
   "outputs": [],
   "source": [
    "gp = SaasFullyBayesianSingleTaskGP(train_X=train_X, train_Y=train_Y)\n",
    "fit_fully_bayesian_model_nuts(\n",
    "    gp, warmup_steps=WARMUP_STEPS, num_samples=NUM_SAMPLES, thinning=THINNING, disable_progbar=True\n",
    ")\n",
    "with torch.no_grad():\n",
    "    posterior = gp.posterior(test_X)"
   ]
  },
  {
   "cell_type": "markdown",
   "metadata": {
    "code_folding": [],
    "customInput": null,
    "hidden_ranges": [],
    "originalKey": "5f4fa168-2662-499b-ac82-3ab122dfe2ad",
    "showInput": false
   },
   "source": [
    "Computing the median lengthscales over the MCMC dimensions makes it clear that the first feature has the smallest lengthscale\n"
   ]
  },
  {
   "cell_type": "code",
   "execution_count": 6,
   "metadata": {
    "code_folding": [],
    "customInput": null,
    "executionStartTime": 1649803435292,
    "executionStopTime": 1649803435352,
    "hidden_ranges": [],
    "originalKey": "9193cb0a-1aa4-4d60-8aa6-5b12140c3162",
    "requestMsgId": "d7f71de8-8f16-4db0-9f10-df176d418b9b",
    "showInput": true
   },
   "outputs": [
    {
     "name": "stdout",
     "output_type": "stream",
     "text": [
      "tensor([  4.5885, 309.3887, 131.9895, 137.9891], dtype=torch.float64)\n"
     ]
    }
   ],
   "source": [
    "print(gp.median_lengthscale.detach())"
   ]
  },
  {
   "cell_type": "markdown",
   "metadata": {
    "code_folding": [],
    "customInput": null,
    "hidden_ranges": [],
    "originalKey": "cf15a6ca-3377-40d1-9821-fad8f6600657",
    "showInput": false
   },
   "source": [
    "### Make predictions with the model\n",
    "\n",
    "In the next cell we show how to make predictions with the SAAS model. You compute the mean\n",
    "and variance for test points just like for any other BoTorch posteriors. Note that the mean \n",
    "and posterior will have an extra batch dimension at -3 that corresponds to the number of MCMC\n",
    "samples (which is 16 in this tutorial)."
   ]
  },
  {
   "cell_type": "code",
   "execution_count": 7,
   "metadata": {
    "code_folding": [],
    "customInput": null,
    "executionStartTime": 1649803435389,
    "executionStopTime": 1649803435463,
    "hidden_ranges": [],
    "originalKey": "4ddd40fd-e047-4532-bc7c-dbb9794709c6",
    "requestMsgId": "0d72c439-d538-42ae-a67d-98efe701e3ab",
    "showInput": true
   },
   "outputs": [
    {
     "name": "stdout",
     "output_type": "stream",
     "text": [
      "torch.Size([16, 5, 1])\n",
      "torch.Size([16, 5, 1])\n"
     ]
    }
   ],
   "source": [
    "print(posterior.mean.shape)\n",
    "print(posterior.variance.shape)"
   ]
  },
  {
   "cell_type": "markdown",
   "metadata": {
    "code_folding": [],
    "customInput": null,
    "hidden_ranges": [],
    "originalKey": "02b33f7f-4f31-432a-bac7-8cad1831e9a1",
    "showInput": false
   },
   "source": [
    "We also provide several convenience methods for computing different statistics over the MCMC samples:\n",
    "```\n",
    "mixture_mean = posterior.mixture_mean\n",
    "mixture_variance = posterior.mixture_variance\n",
    "mixture_median = posterior.mixture_median\n",
    "mixture_quantile = posterior.quantile(q=0.95)\n",
    "```"
   ]
  },
  {
   "cell_type": "code",
   "execution_count": 8,
   "metadata": {
    "code_folding": [],
    "customInput": null,
    "executionStartTime": 1649803435482,
    "executionStopTime": 1649803435582,
    "hidden_ranges": [],
    "originalKey": "6dfd412e-9ac1-41b3-aede-cc5871fecde2",
    "requestMsgId": "0b57b24f-a1ea-4e14-939a-b2ca4d57bdbe",
    "showInput": true
   },
   "outputs": [
    {
     "name": "stdout",
     "output_type": "stream",
     "text": [
      "Ground truth:     tensor([0.7960, 0.6637, 0.8272, 0.0537, 0.7145], dtype=torch.float64)\n",
      "Mixture mean:     tensor([0.7997, 0.6634, 0.8330, 0.0537, 0.7148], dtype=torch.float64)\n",
      "Mixture median:   tensor([0.7996, 0.6635, 0.8331, 0.0536, 0.7148], dtype=torch.float64)\n"
     ]
    }
   ],
   "source": [
    "print(f\"Ground truth:     {test_Y.squeeze(-1)}\")\n",
    "print(f\"Mixture mean:     {posterior.mixture_mean.squeeze(-1)}\")\n",
    "print(f\"Mixture median:   {posterior.mixture_median.squeeze(-1)}\")"
   ]
  },
  {
   "cell_type": "markdown",
   "metadata": {
    "code_folding": [],
    "customInput": null,
    "executionStartTime": 1644277314184,
    "executionStopTime": 1644277314189,
    "hidden_ranges": [],
    "originalKey": "d9bec8be-2acd-40b8-aebb-612b62bbdfc3",
    "requestMsgId": "d9bec8be-2acd-40b8-aebb-612b62bbdfc3",
    "showInput": false
   },
   "source": [
    "## Optimize Branin embedded in a 50D space\n",
    "We take the standard 2D Branin problem and embed it in a 50D space. In particular,\n",
    "we let dimensions 0 and 1 correspond to the true dimensions. We will show that\n",
    "SAASBO is able to identify the important dimensions and efficiently optimize this function.\n",
    "We work with the domain $[0, 1]^d$ and unnormalize the inputs to the true domain of Branin \n",
    "before evaluating the function."
   ]
  },
  {
   "cell_type": "code",
   "execution_count": 9,
   "metadata": {
    "code_folding": [],
    "customInput": null,
    "executionStartTime": 1649803435585,
    "executionStopTime": 1649803435707,
    "hidden_ranges": [],
    "originalKey": "02dc339d-16c5-405d-9e37-0dae74efe241",
    "requestMsgId": "93490e23-9822-46be-aae3-1f5c17f2b29c",
    "showInput": true
   },
   "outputs": [],
   "source": [
    "branin = Branin().to(**tkwargs)\n",
    "\n",
    "\n",
    "def branin_emb(x):\n",
    "    \"\"\"x is assumed to be in [0, 1]^d\"\"\"\n",
    "    lb, ub = branin.bounds\n",
    "    return branin(lb + (ub - lb) * x[..., :2])"
   ]
  },
  {
   "cell_type": "code",
   "execution_count": 10,
   "metadata": {
    "code_folding": [],
    "customInput": null,
    "executionStartTime": 1649803435801,
    "executionStopTime": 1649803435827,
    "hidden_ranges": [],
    "originalKey": "6df12331-d43e-4ad4-8b40-7a8b00c1f1d8",
    "requestMsgId": "152b2c11-2fb0-40ce-9cdf-a156f611dfe5",
    "showInput": true
   },
   "outputs": [
    {
     "name": "stdout",
     "output_type": "stream",
     "text": [
      "Using a total of 50 function evaluations\n"
     ]
    }
   ],
   "source": [
    "DIM = 50 if not SMOKE_TEST else 10\n",
    "\n",
    "# Evaluation budget\n",
    "N_INIT = 10\n",
    "N_ITERATIONS = 10 if not SMOKE_TEST else 1\n",
    "BATCH_SIZE = 4 if not SMOKE_TEST else 1\n",
    "print(f\"Using a total of {N_INIT + BATCH_SIZE * N_ITERATIONS} function evaluations\")"
   ]
  },
  {
   "cell_type": "markdown",
   "metadata": {
    "code_folding": [],
    "customInput": null,
    "hidden_ranges": [],
    "originalKey": "27fd793f-18ee-49cb-9aa5-c8cd78b0b807",
    "showInput": false
   },
   "source": [
    "### Run the optimization\n",
    "We use 10 initial Sobol points followed by 10 iterations of BO using a batch size of 4, \n",
    "which results in a total of 50 function evaluations. As our goal is to minimize Branin, we flip\n",
    "the sign of the function values before fitting the SAAS model as the BoTorch acquisition\n",
    "functions assume maximization."
   ]
  },
  {
   "cell_type": "code",
   "execution_count": 11,
   "metadata": {
    "code_folding": [],
    "customInput": null,
    "executionStartTime": 1649803435858,
    "executionStopTime": 1649804281328,
    "hidden_ranges": [],
    "originalKey": "fbd40222-37a2-438f-be89-1f5bf47cb7c4",
    "requestMsgId": "057d240b-0669-4257-8c20-d144e3655230",
    "showInput": true
   },
   "outputs": [
    {
     "name": "stdout",
     "output_type": "stream",
     "text": [
      "Best initial point: 13.121\n",
      "1) New best: 10.239 @ [0.208, 0.511]\n",
      "2) New best: 3.587 @ [0.080, 1.000]\n",
      "4) New best: 0.409 @ [0.121, 0.829]\n",
      "6) New best: 0.407 @ [0.127, 0.813]\n",
      "7) New best: 0.398 @ [0.124, 0.817]\n"
     ]
    }
   ],
   "source": [
    "X = SobolEngine(dimension=DIM, scramble=True, seed=0).draw(N_INIT).to(**tkwargs)\n",
    "Y = branin_emb(X).unsqueeze(-1)\n",
    "print(f\"Best initial point: {Y.min().item():.3f}\")\n",
    "\n",
    "for i in range(N_ITERATIONS):\n",
    "    train_Y = -1 * Y  # Flip the sign since we want to minimize f(x)\n",
    "    gp = SaasFullyBayesianSingleTaskGP(\n",
    "        train_X=X, train_Y=train_Y, train_Yvar=torch.full_like(train_Y, 1e-6), outcome_transform=Standardize(m=1)\n",
    "    )\n",
    "    fit_fully_bayesian_model_nuts(\n",
    "        gp, warmup_steps=WARMUP_STEPS, num_samples=NUM_SAMPLES, thinning=THINNING, disable_progbar=True\n",
    "    )\n",
    "\n",
    "    EI = qExpectedImprovement(model=gp, best_f=train_Y.max())\n",
    "    candidates, acq_values = optimize_acqf(\n",
    "        EI,\n",
    "        bounds=torch.cat((torch.zeros(1, DIM), torch.ones(1, DIM))).to(**tkwargs),\n",
    "        q=BATCH_SIZE,\n",
    "        num_restarts=10,\n",
    "        raw_samples=1024,\n",
    "    )\n",
    "\n",
    "    Y_next = torch.cat([branin_emb(x).unsqueeze(-1) for x in candidates]).unsqueeze(-1)\n",
    "    if Y_next.min() < Y.min():\n",
    "        ind_best = Y_next.argmin()\n",
    "        x0, x1 = candidates[ind_best, :2].tolist()\n",
    "        print(f\"{i + 1}) New best: {Y_next[ind_best].item():.3f} @ \" f\"[{x0:.3f}, {x1:.3f}]\")\n",
    "    X = torch.cat((X, candidates))\n",
    "    Y = torch.cat((Y, Y_next))"
   ]
  },
  {
   "cell_type": "markdown",
   "metadata": {
    "code_folding": [],
    "customInput": null,
    "hidden_ranges": [],
    "originalKey": "a9704a99-0712-40bb-a263-6798e0925291",
    "showInput": false
   },
   "source": [
    "## Plot the results\n",
    "\n",
    "We can see that we were able to get close to the global optimium of $\\approx 0.398$ after 50 function evaluations.\n"
   ]
  },
  {
   "cell_type": "code",
   "execution_count": 12,
   "metadata": {
    "code_folding": [],
    "customInput": null,
    "executionStartTime": 1649804281423,
    "executionStopTime": 1649804281775,
    "hidden_ranges": [],
    "originalKey": "c4ab3029-72d6-4bf6-b862-e11cfd9f879c",
    "requestMsgId": "36995c8c-8009-44ee-aff9-4f5b003c81c2",
    "showInput": true
   },
   "outputs": [
    {
     "data": {
      "image/png": "[encoded data removed]",
      "text/plain": [
       "<Figure size 576x432 with 1 Axes>"
      ]
     },
     "metadata": {
      "needs_background": "light"
     },
     "output_type": "display_data"
    }
   ],
   "source": [
    "Y_np = Y.cpu().numpy()\n",
    "fig, ax = plt.subplots(figsize=(8, 6))\n",
    "ax.plot(np.minimum.accumulate(Y_np), color=\"b\", label=\"SAASBO\")\n",
    "ax.plot([0, len(Y_np)], [0.398, 0.398], \"--\", c=\"g\", lw=3, label=\"Optimal value\")\n",
    "ax.grid(True)\n",
    "ax.set_title(f\"Branin, D = {DIM}\", fontsize=20)\n",
    "ax.set_xlabel(\"Number of evaluations\", fontsize=20)\n",
    "ax.set_xlim([0, len(Y_np)])\n",
    "ax.set_ylabel(\"Best value found\", fontsize=20)\n",
    "ax.set_ylim([0, 8])\n",
    "ax.legend(fontsize=18)\n",
    "plt.show()"
   ]
  },
  {
   "cell_type": "markdown",
   "metadata": {
    "code_folding": [],
    "customInput": null,
    "hidden_ranges": [],
    "originalKey": "d81134ff-cec6-45cb-92bf-4170f428af40",
    "showInput": false
   },
   "source": [
    "## Predict on some test points\n",
    "We fit a model using the 50 datapoints collected by SAASBO and predict on 50 test \n",
    "points in order to see how well the SAAS model predicts out-of-sample.\n",
    "The plot shows the mean and a 95% confidence interval for each test point."
   ]
  },
  {
   "cell_type": "code",
   "execution_count": 13,
   "metadata": {
    "code_folding": [],
    "customInput": null,
    "executionStartTime": 1649804281784,
    "executionStopTime": 1649804355358,
    "hidden_ranges": [],
    "originalKey": "25ab4627-0efb-493d-804e-cfc5bf1fb2cc",
    "requestMsgId": "f28625c0-3788-4367-a874-a0ce6f95bdd4",
    "showInput": true
   },
   "outputs": [],
   "source": [
    "train_X = SobolEngine(dimension=DIM, scramble=True, seed=0).draw(50).to(**tkwargs)\n",
    "test_X = SobolEngine(dimension=DIM, scramble=True, seed=1).draw(50).to(**tkwargs)\n",
    "train_Y = branin_emb(train_X).unsqueeze(-1)\n",
    "test_Y = branin_emb(test_X).unsqueeze(-1)\n",
    "\n",
    "gp = SaasFullyBayesianSingleTaskGP(\n",
    "    train_X=train_X, train_Y=train_Y, train_Yvar=torch.full_like(train_Y, 1e-6), outcome_transform=Standardize(m=1)\n",
    ")\n",
    "fit_fully_bayesian_model_nuts(\n",
    "    gp, warmup_steps=WARMUP_STEPS, num_samples=NUM_SAMPLES, thinning=THINNING, disable_progbar=True\n",
    ")"
   ]
  },
  {
   "cell_type": "code",
   "execution_count": 14,
   "metadata": {
    "code_folding": [],
    "customInput": null,
    "executionStartTime": 1649804355454,
    "executionStopTime": 1649804355546,
    "hidden_ranges": [],
    "originalKey": "e28b4820-8905-4996-8216-afa808242b0d",
    "requestMsgId": "e5bda4bc-b9f7-4297-98d0-f83d1e1a5ac6",
    "showInput": true
   },
   "outputs": [
    {
     "name": "stderr",
     "output_type": "stream",
     "text": [
      "/Users/deriksson/Documents/GitHub/gpytorch/gpytorch/likelihoods/gaussian_likelihood.py:270: GPInputWarning: You have passed data through a FixedNoiseGaussianLikelihood that did not match the size of the fixed noise, *and* you did not specify noise. This is treated as a no-op.\n",
      "  warnings.warn(\n"
     ]
    }
   ],
   "source": [
    "with torch.no_grad():\n",
    "    posterior = gp.posterior(test_X)\n",
    "median = posterior.mixture_median\n",
    "q1 = posterior.mixture_quantile(q=0.025)\n",
    "q2 = posterior.mixture_quantile(q=0.975)"
   ]
  },
  {
   "cell_type": "code",
   "execution_count": 15,
   "metadata": {
    "code_folding": [],
    "customInput": null,
    "executionStartTime": 1649804355804,
    "executionStopTime": 1649804355875,
    "hidden_ranges": [],
    "originalKey": "0864fc0e-0e7d-4004-af52-26a57ea02be4",
    "requestMsgId": "fc8c7e7a-cc61-4064-9dc8-783ec1b02cdd",
    "showInput": true
   },
   "outputs": [
    {
     "data": {
      "image/png": "[encoded data removed]",
      "text/plain": [
       "<Figure size 576x432 with 1 Axes>"
      ]
     },
     "metadata": {
      "needs_background": "light"
     },
     "output_type": "display_data"
    }
   ],
   "source": [
    "fig, ax = plt.subplots(1, 1, figsize=(8, 6))\n",
    "ax.plot([0, 80], [0, 80], \"b--\", lw=2)\n",
    "\n",
    "yerr1, yerr2 = median - q1, q2 - median\n",
    "yerr = torch.cat((yerr1.unsqueeze(0), yerr2.unsqueeze(0)), dim=0).squeeze(-1)\n",
    "markers, caps, bars = ax.errorbar(\n",
    "    test_Y.squeeze(-1).cpu(),\n",
    "    median.squeeze(-1).cpu(),\n",
    "    yerr=yerr.cpu(),\n",
    "    fmt=\".\",\n",
    "    capsize=4,\n",
    "    elinewidth=2.0,\n",
    "    ms=14,\n",
    "    c=\"k\",\n",
    "    ecolor=\"gray\",\n",
    ")\n",
    "ax.set_xlim([0, 80])\n",
    "ax.set_ylim([0, 80])\n",
    "[bar.set_alpha(0.8) for bar in bars]\n",
    "[cap.set_alpha(0.8) for cap in caps]\n",
    "ax.set_xlabel(\"True value\", fontsize=20)\n",
    "ax.set_ylabel(\"Predicted value\", fontsize=20)\n",
    "ax.set_aspect(\"equal\")\n",
    "ax.grid(True)"
   ]
  },
  {
   "cell_type": "markdown",
   "metadata": {
    "code_folding": [],
    "customInput": null,
    "hidden_ranges": [],
    "originalKey": "838dd7ad-b1d4-4781-89aa-781328aff71d",
    "requestMsgId": "34e976cd-7d09-40d2-8987-aecdefa7c0fd",
    "showInput": false
   },
   "source": [
    "## Look a the lengthscales from the final model\n",
    "\n",
    "As SAASBO places strong priors on the inverse lengthscales, we only expect parameters \n",
    "0 and 1 to be identified as important by the model since the other parameters have no effect.\n",
    "We can confirm that this is the case below as the lengthscales of parameters 0 and 1 are \n",
    "small with all other lengthscales being large."
   ]
  },
  {
   "cell_type": "code",
   "execution_count": 16,
   "metadata": {
    "code_folding": [],
    "customInput": null,
    "executionStartTime": 1649804355961,
    "executionStopTime": 1649804355985,
    "hidden_ranges": [],
    "originalKey": "d0a27523-3a61-40c0-bd44-d585462048c7",
    "requestMsgId": "46a40a84-31c0-48f5-9d89-5b0f507c857c",
    "showInput": true
   },
   "outputs": [
    {
     "name": "stdout",
     "output_type": "stream",
     "text": [
      "Parameter  0) Median lengthscale = 6.91e-01\n",
      "Parameter  1) Median lengthscale = 2.26e+00\n",
      "Parameter  3) Median lengthscale = 8.49e+02\n",
      "Parameter 32) Median lengthscale = 9.27e+02\n",
      "Parameter 30) Median lengthscale = 9.39e+02\n",
      "Parameter  8) Median lengthscale = 9.59e+02\n",
      "Parameter 33) Median lengthscale = 1.10e+03\n",
      "Parameter 13) Median lengthscale = 1.12e+03\n",
      "Parameter 35) Median lengthscale = 1.12e+03\n",
      "Parameter 45) Median lengthscale = 1.13e+03\n"
     ]
    }
   ],
   "source": [
    "median_lengthscales = gp.median_lengthscale\n",
    "for i in median_lengthscales.argsort()[:10]:\n",
    "    print(f\"Parameter {i:2}) Median lengthscale = {median_lengthscales[i].item():.2e}\")"
   ]
  },
  {
   "cell_type": "code",
   "execution_count": null,
   "metadata": {
    "customInput": null,
    "executionStartTime": 1649804355988,
    "executionStopTime": 1649804355991,
    "originalKey": "0ad5a056-1b84-4127-b5ed-1a224c6c6997",
    "requestMsgId": "8c94d05e-477c-4c9e-981d-ce3fa18fdbfa",
    "showInput": true
   },
   "outputs": [],
   "source": []
  }
 ],
 "metadata": {
  "kernelspec": {
   "display_name": "Python 3",
   "language": "python",
   "name": "python3"
  },
  "language_info": {
   "codemirror_mode": {
    "name": "ipython",
    "version": 3
   },
   "file_extension": ".py",
   "mimetype": "text/x-python",
   "name": "python",
   "nbconvert_exporter": "python",
   "pygments_lexer": "ipython3",
   "version": "3.8.8"
  },
  "last_base_url": "https://devbig817.ftw3.facebook.com:8090/",
  "last_kernel_id": "1ea118e7-3c30-4f8b-829e-6c4463a0dd18",
  "last_msg_id": "9be876c0-63f6cb1b68664eaf37dfc798_733",
  "last_server_session_id": "326bac30-6ad0-4564-b1f5-1be4470e1e6c",
  "outputWidgetContext": {}
 },
 "nbformat": 4,
 "nbformat_minor": 2
}
